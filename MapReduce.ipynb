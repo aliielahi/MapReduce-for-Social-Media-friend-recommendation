{
  "nbformat": 4,
  "nbformat_minor": 0,
  "metadata": {
    "colab": {
      "provenance": [],
      "private_outputs": true,
      "machine_shape": "hm"
    },
    "kernelspec": {
      "name": "python3",
      "display_name": "Python 3"
    },
    "language_info": {
      "name": "python"
    },
    "accelerator": "GPU",
    "gpuClass": "standard"
  },
  "cells": [
    {
      "cell_type": "code",
      "execution_count": null,
      "metadata": {
        "id": "StkPIDTnVbCG"
      },
      "outputs": [],
      "source": [
        "!pip install pyspark\n",
        "!pip install -U -q PyDrive\n",
        "!apt install openjdk-8-jdk-headless -qq"
      ]
    },
    {
      "cell_type": "code",
      "source": [
        "import os\n",
        "os.environ[\"JAVA_HOME\"] = \"/usr/lib/jvm/java-8-openjdk-amd64\""
      ],
      "metadata": {
        "id": "CsVt2dXpVc67"
      },
      "execution_count": null,
      "outputs": []
    },
    {
      "cell_type": "code",
      "source": [
        "# Let's import the libraries we will need\n",
        "import pandas as pd\n",
        "import numpy as np\n",
        "import matplotlib.pyplot as plt\n",
        "%matplotlib inline\n",
        "\n",
        "import pyspark\n",
        "from pyspark.sql import *\n",
        "from pyspark.sql.functions import *\n",
        "from pyspark import SparkContext, SparkConf"
      ],
      "metadata": {
        "id": "tIaIXMRdVeXI"
      },
      "execution_count": null,
      "outputs": []
    },
    {
      "cell_type": "code",
      "source": [
        "# create the session\n",
        "conf = SparkConf().set(\"spark.ui.port\", \"4050\")\n",
        "\n",
        "# create the context\n",
        "sc = pyspark.SparkContext(conf=conf)\n",
        "spark = SparkSession.builder.getOrCreate()"
      ],
      "metadata": {
        "id": "UPefJobUWaSY"
      },
      "execution_count": null,
      "outputs": []
    },
    {
      "cell_type": "code",
      "source": [
        "spark"
      ],
      "metadata": {
        "id": "p8acOqnzWf5d"
      },
      "execution_count": null,
      "outputs": []
    },
    {
      "cell_type": "code",
      "source": [
        "def combinations(l):\n",
        "  res = []\n",
        "  for i in range(len(l)):\n",
        "    for j in range(i+1, len(l)):\n",
        "      res.append((l[i], l[j]))\n",
        "      res.append((l[j], l[i]))\n",
        "  return res\n",
        "\n",
        "def combinations_filtered(l):\n",
        "  res = []\n",
        "  for i in range(len(l)):\n",
        "    for j in range(i+1, len(l)):\n",
        "      if l[i] in filter_list or l[j] in filter_list:\n",
        "        res.append((l[i], l[j]))\n",
        "        res.append((l[j], l[i]))\n",
        "  return res\n",
        "\n",
        "def find_follow_pairs(user_data):\n",
        "  if len(user_data.split()) != 2:\n",
        "    return []\n",
        "  user = user_data.split()[0]\n",
        "  user_followers = user_data.split()[1].split(',')\n",
        "  follow_pairs = []\n",
        "  for i in user_followers:\n",
        "    follow_pairs.append((user, i))\n",
        "  return follow_pairs\n",
        "\n",
        "def find_mutually_follow_pairs(user_data):\n",
        "  if len(user_data.split()) != 2:\n",
        "    return []\n",
        "  user = user_data.split()[0]\n",
        "  user_followers = user_data.split()[1].split(',')\n",
        "  follow_pairs = []\n",
        "  for i in combinations(user_followers):\n",
        "  #for i in combinations_filtered(user_followers):\n",
        "    follow_pairs.append(i)\n",
        "  return follow_pairs\n",
        "\n",
        "def output_convertor(inp):\n",
        "  u, r = inp\n",
        "  res = u + '\\t'\n",
        "  for i in r:\n",
        "    res += i\n",
        "    res += ','\n",
        "  return res[:-1]"
      ],
      "metadata": {
        "id": "7EKVXQwQH45M"
      },
      "execution_count": null,
      "outputs": []
    },
    {
      "cell_type": "code",
      "source": [
        "adj_file = sc.textFile('input1.txt', 1)"
      ],
      "metadata": {
        "id": "AijhOp-68pQ2"
      },
      "execution_count": null,
      "outputs": []
    },
    {
      "cell_type": "code",
      "source": [
        "follow_pairs = adj_file.flatMap(find_follow_pairs).map(lambda a:(a, -1 * np.inf))\n",
        "mutually_followed_pairs = adj_file.flatMap(find_mutually_follow_pairs).map(lambda a:(a, 1))\n",
        "combined_pairs = follow_pairs.union(mutually_followed_pairs)\n",
        "recommendations = combined_pairs.reduceByKey(lambda a,b: a+b).filter(lambda a: a[1] > 0).map(lambda x: (x[0][0], (x[0][1], x[1]))).groupByKey()\n",
        "recommendations_sorted = recommendations.map(lambda x: (x[0], list(x[1]))).map(lambda x: (x[0],  sorted(x[1], reverse = True, key = lambda a: a[1])))\n",
        "recommendations_sorted = recommendations_sorted.map(lambda x: (x[0], [i[0] for i in x[1]]))"
      ],
      "metadata": {
        "id": "eLL0gELTKHn4"
      },
      "execution_count": null,
      "outputs": []
    },
    {
      "cell_type": "code",
      "source": [
        "#recommendations_sorted.filter(lambda x: x[0] in filter_list).collect()"
      ],
      "metadata": {
        "id": "xrAcf4KjxqOe"
      },
      "execution_count": null,
      "outputs": []
    },
    {
      "cell_type": "code",
      "source": [
        "recommendations_sorted1 = recommendations_sorted.map(output_convertor)"
      ],
      "metadata": {
        "id": "-1lNR03P3gwv"
      },
      "execution_count": null,
      "outputs": []
    },
    {
      "cell_type": "code",
      "source": [
        "recommendations_sorted1.collect()"
      ],
      "metadata": {
        "id": "4NxQu48I7DTB"
      },
      "execution_count": null,
      "outputs": []
    },
    {
      "cell_type": "code",
      "source": [
        "recommendations_sorted1.coalesce(1).saveAsTextFile(\"res.txt\")"
      ],
      "metadata": {
        "id": "BNP8q0J24pJs"
      },
      "execution_count": null,
      "outputs": []
    }
  ]
}